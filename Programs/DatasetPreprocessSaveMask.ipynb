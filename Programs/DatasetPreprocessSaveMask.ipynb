{
 "cells": [
  {
   "cell_type": "code",
   "execution_count": 44,
   "id": "native-jimmy",
   "metadata": {},
   "outputs": [
    {
     "data": {
      "text/plain": [
       "'\\nThe shape of DatasetArr.npy is [B,C,H,W].\\n[B,0:3,H,W] = BGR original image for input\\n[B,4,H,W] = Segmentation for hard_disk\\n[B,5,H,W] = Segmentation for disk\\n[B,6,H,W] = Segmentation for chip\\n[B,7,H,W] = Segmentation for reader\\n[B,8,H,W] = Segmentation for y_part\\n'"
      ]
     },
     "execution_count": 44,
     "metadata": {},
     "output_type": "execute_result"
    },
    {
     "data": {
      "image/png": "[encoded data removed]",
      "text/plain": [
       "<Figure size 432x288 with 1 Axes>"
      ]
     },
     "metadata": {
      "needs_background": "light"
     },
     "output_type": "display_data"
    }
   ],
   "source": [
    "import json, random\n",
    "import pandas as pd\n",
    "import numpy as np\n",
    "from PIL import Image, ImageDraw, ImagePath\n",
    "import os, cv2\n",
    "import matplotlib.pyplot as plt\n",
    "\n",
    "\n",
    "def plotSegmentation(seg, saveName):\n",
    "#     RGBImg = np.moveaxis(seg[0:3], -0, -1) #Reshape channeL from [C, H, W] to [H, W, C]\n",
    "#     plt.imshow(RGBImg)\n",
    "    parts = ['hard_disk', 'disk', 'chip', 'reader', 'y_part', 'background']\n",
    "    folders = ['../Dataset/AllMask/hard_disk/','../Dataset/AllMask/disk/','../Dataset/AllMask/chip/',\n",
    "              '../Dataset/AllMask/reader/','../Dataset/AllMask/y_part/','../Dataset/AllMask/background/' ]\n",
    "    for i in range(6):\n",
    "        #print(i)\n",
    "        plt.clf()\n",
    "        plt.cla()\n",
    "        plt.close()\n",
    "        color = cv2.cvtColor(seg[3+i], cv2.COLOR_GRAY2BGRA)\n",
    "        color[:,:,0] = color[:,:,0]/255*random.randint(1,255)\n",
    "        color[:,:,1] = color[:,:,1]/255*random.randint(1,255)\n",
    "        color[:,:,2] = color[:,:,2]/255*random.randint(1,255)\n",
    "        color[color[:,:,0]==0,3] = color[color[:,:,0]==0,3]-255\n",
    "        plt.imshow(color, alpha=1)\n",
    "        plt.axis('off')\n",
    "        plt.savefig(folders[i]+parts[i]+'-'+saveName)\n",
    "        \n",
    "\n",
    "# [B,4,H,W] = Segmentation for hard_disk\n",
    "# [B,5,H,W] = Segmentation for disk\n",
    "# [B,6,H,W] = Segmentation for chip\n",
    "# [B,7,H,W] = Segmentation for reader\n",
    "# [B,8,H,W] = Segmentation for y_part    \n",
    "\n",
    "resArr = []\n",
    "resName = []\n",
    "with open('../Dataset/UB-Data/annotations_all.json') as json_file:\n",
    "    data = json.load(json_file)\n",
    "    width = 960\n",
    "    height = 540\n",
    "    for i in range(len(data[\"images\"])):\n",
    "        imgPath = data[\"images\"][i][\"file_name\"]\n",
    "        imgName = imgPath.split('/')[1]\n",
    "        imgName = imgName.split('.')[0]\n",
    "        OriImg = cv2.imread(imgPath) #BGR\n",
    "        OriImg = cv2.resize(OriImg,(224,224)) #Resize images\n",
    "        OriResSizeImg = np.moveaxis(OriImg, -1, 0) #Reshape channeL from [H, W, C] to [C, H, W]\n",
    "        resName.append(imgName)\n",
    "        tmpRes = [[],[],[],[],[]]\n",
    "        bk = np.zeros((224, 224)) #Background\n",
    "        for j in range(5):\n",
    "            segXY = data['annotations'][i*5+j]['segmentation'][0]\n",
    "            categoryID = data['annotations'][i*5+j]['category_id']\n",
    "            image = ImagePath.Path(segXY).getbbox()\n",
    "            img = Image.new('L', (width, height), 0)\n",
    "            img1 = ImageDraw.Draw(img)\n",
    "            img1.polygon(segXY, fill =\"#ffffff\", outline =\"#ffffff\")\n",
    "            img = img.resize((224, 224)) #Resize images\n",
    "            mask = np.array(img) #mask component part\n",
    "            tmpRes[categoryID-1] = mask #Save mask\n",
    "            bk += mask\n",
    "        bk[bk>0]=-1\n",
    "        bk[bk==0]=255\n",
    "        bk[bk==-1]=0\n",
    "        bk = bk.astype('uint8')\n",
    "        tmpRes.append(bk) #Save mask\n",
    "        tmpRes = np.array(tmpRes)\n",
    "        megRes = np.vstack((OriResSizeImg, tmpRes))\n",
    "        plotSegmentation(megRes, imgName) #To check seg\n"
   ]
  },
  {
   "cell_type": "code",
   "execution_count": null,
   "id": "sporting-florence",
   "metadata": {},
   "outputs": [],
   "source": []
  }
 ],
 "metadata": {
  "kernelspec": {
   "display_name": "Python 3",
   "language": "python",
   "name": "python3"
  },
  "language_info": {
   "codemirror_mode": {
    "name": "ipython",
    "version": 3
   },
   "file_extension": ".py",
   "mimetype": "text/x-python",
   "name": "python",
   "nbconvert_exporter": "python",
   "pygments_lexer": "ipython3",
   "version": "3.8.8"
  }
 },
 "nbformat": 4,
 "nbformat_minor": 5
}
